{
 "cells": [
  {
   "cell_type": "markdown",
   "id": "558d27bd",
   "metadata": {},
   "source": [
    "## 1. Min Stack with O(2N) Space Complexity"
   ]
  },
  {
   "cell_type": "markdown",
   "id": "52ca94e3",
   "metadata": {},
   "source": [
    "### Approach:\n",
    "\n",
    "1. Use two stacks:\n",
    "    - Main Stack: To store all values.\n",
    "    - Min Stack: To store the minimum value so far at each push.\n",
    "2. On each push, also push the current minimum (so far) onto Min Stack.\n",
    "3. On pop, pop from both stacks.\n"
   ]
  },
  {
   "cell_type": "markdown",
   "id": "10f498e3",
   "metadata": {},
   "source": [
    "---\n",
    "\n",
    "```\n",
    "\n",
    "class MinStack:\n",
    "    initialize stack as empty\n",
    "    initialize minStack as empty\n",
    "\n",
    "    method push(value):\n",
    "        stack.push(value)\n",
    "        if minStack is empty:\n",
    "            minStack.push(value)\n",
    "        else:\n",
    "            minStack.push(min(value, minStack.top()))\n",
    "\n",
    "    method pop():\n",
    "        stack.pop()\n",
    "        minStack.pop()\n",
    "\n",
    "    method top():\n",
    "        return stack.top()\n",
    "    \n",
    "    method getMin():\n",
    "        return minStack.top()\n",
    "```\n",
    "\n",
    "---\n",
    "---"
   ]
  },
  {
   "cell_type": "markdown",
   "id": "30d1fb6b",
   "metadata": {},
   "source": [
    "## 2. Min Stack with O(N) Space Complexity"
   ]
  },
  {
   "cell_type": "markdown",
   "id": "32f73572",
   "metadata": {},
   "source": [
    "### Approach:\n",
    "\n",
    "- Use two stacks:\n",
    "    - Main Stack: To store all values.\n",
    "    - Min Stack: Only store the new minimums when they occur.\n",
    "- On push, only push to Min Stack if the value is less than or equal to the current minimum.\n",
    "- On pop, if the popped value is equal to the top of Min Stack, also pop Min Stack.\n"
   ]
  },
  {
   "cell_type": "markdown",
   "id": "b36f9a6f",
   "metadata": {},
   "source": [
    "---\n",
    "\n",
    "```\n",
    "class MinStack:\n",
    "    initialize stack as empty\n",
    "    initialize minStack as empty\n",
    "\n",
    "    method push(value):\n",
    "        stack.push(value)\n",
    "        if minStack is empty or value <= minStack.top():\n",
    "            minStack.push(value)\n",
    "\n",
    "    method pop():\n",
    "        popped = stack.pop()\n",
    "        if popped == minStack.top():\n",
    "            minStack.pop()\n",
    "\n",
    "    method top():\n",
    "        return stack.top()\n",
    "\n",
    "    method getMin():\n",
    "        return minStack.top()\n",
    "```\n",
    "\n",
    "---"
   ]
  },
  {
   "cell_type": "markdown",
   "id": "a0971c70",
   "metadata": {},
   "source": []
  }
 ],
 "metadata": {
  "language_info": {
   "name": "python"
  }
 },
 "nbformat": 4,
 "nbformat_minor": 5
}
