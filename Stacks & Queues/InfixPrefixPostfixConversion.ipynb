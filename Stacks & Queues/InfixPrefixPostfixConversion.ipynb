{
 "cells": [
  {
   "cell_type": "markdown",
   "id": "cfb4f9a2",
   "metadata": {},
   "source": [
    "## Intro\n",
    "\n",
    "1. Infix Notation\n",
    "\n",
    "    `This is the notation you use in everyday math`: operators are written between operands, like A + B.\n",
    "\n",
    "    Example: <br>\n",
    "    A + B * C\n",
    "    (Here, multiplication has higher precedence, so it’s performed before addition.)<br>\n",
    "\n",
    "2. Prefix Notation (Polish Notation)\n",
    "\n",
    "    `The operator comes before its operands.`\n",
    "\n",
    "    Example:<br>\n",
    "    +AB means A+B<br>\n",
    "    For A + B * C, it becomes +A*BC (since B * C is evaluated first).<br>\n",
    "\n",
    "3. Postfix Notation (Reverse Polish Notation)\n",
    "\n",
    "    `The operator comes after its operands.`\n",
    "\n",
    "    Example:<br>\n",
    "    AB+ means A+B<br>\n",
    "    For A + B * C, it becomes ABC*+.\n"
   ]
  },
  {
   "cell_type": "markdown",
   "id": "9cf9c585",
   "metadata": {},
   "source": [
    "## Why Convert?\n",
    "\n",
    "`Computers` prefer prefix or postfix because they don’t need parentheses or precedence rules.<br>\n",
    "`Humans` use infix, but it’s harder for computers to parse.\n",
    "\n"
   ]
  },
  {
   "cell_type": "markdown",
   "id": "dacb586f",
   "metadata": {},
   "source": [
    "## Conversion"
   ]
  },
  {
   "cell_type": "markdown",
   "id": "29a8ba0e",
   "metadata": {},
   "source": [
    "### Infix to Postfix"
   ]
  },
  {
   "cell_type": "markdown",
   "id": "0f7f2593",
   "metadata": {},
   "source": [
    "1. Initialize an empty stack for operators and an empty output list.\n",
    "2. Scan the infix expression from left to right.\n",
    "3. If operand: add to output.\n",
    "4. If '(': push to stack.\n",
    "5. If ')': pop from stack to output until '(' is found; pop '('.\n",
    "6. If operator:\n",
    "    - a. While stack is not empty and precedence of stack top ≥ current, pop from stack to output.\n",
    "    - b. Push operator to stack.<br>\n",
    "At end: pop all operators to output.\n"
   ]
  },
  {
   "cell_type": "markdown",
   "id": "57464018",
   "metadata": {},
   "source": [
    "---\n",
    "\n",
    "```\n",
    "function infixToPostfix(expression):\n",
    "    stack = empty stack\n",
    "    output = empty list\n",
    "    for token in expression:\n",
    "        if token is operand:\n",
    "            output.append(token)\n",
    "        else if token is '(':\n",
    "            stack.push(token)\n",
    "        else if token is ')':\n",
    "            while stack.top() != '(':\n",
    "                output.append(stack.pop())\n",
    "            stack.pop() // Remove '('\n",
    "        else if token is operator:\n",
    "            while stack not empty and precedence(stack.top()) >= precedence(token):\n",
    "                output.append(stack.pop())\n",
    "            stack.push(token)\n",
    "    while stack not empty:\n",
    "        output.append(stack.pop())\n",
    "    return join(output)\n",
    "```\n",
    "---\n",
    "---\n"
   ]
  },
  {
   "cell_type": "markdown",
   "id": "7230b67c",
   "metadata": {},
   "source": [
    "### Infix to Prefix"
   ]
  },
  {
   "cell_type": "markdown",
   "id": "3ce8ff5e",
   "metadata": {},
   "source": [
    "\n",
    "1. Reverse the infix expression.\n",
    "2. Swap '(' with ')' and vice versa.\n",
    "3. Convert the reversed expression to postfix.\n",
    "4.  Reverse the postfix to get prefix.\n",
    "\n"
   ]
  },
  {
   "cell_type": "markdown",
   "id": "a5e685e9",
   "metadata": {},
   "source": [
    "--- \n",
    "```\n",
    "function infixToPrefix(expression):\n",
    "    reversedExpr = reverse(expression)\n",
    "    for i in range(len(reversedExpr)):\n",
    "        if reversedExpr[i] == '(':\n",
    "            reversedExpr[i] = ')'\n",
    "        else if reversedExpr[i] == ')':\n",
    "            reversedExpr[i] = '('\n",
    "    postfix = infixToPostfix(reversedExpr)\n",
    "    prefix = reverse(postfix)\n",
    "    return prefix\n",
    "```\n",
    "---\n",
    "---"
   ]
  },
  {
   "cell_type": "markdown",
   "id": "cb0b82f4",
   "metadata": {},
   "source": [
    "### Postfix to Infix\n"
   ]
  },
  {
   "cell_type": "markdown",
   "id": "61b08784",
   "metadata": {},
   "source": [
    "1. Initialize an empty stack.\n",
    "2. Scan left to right.\n",
    "    - If operand: push to stack.\n",
    "    - If operator: pop two operands, combine as (operand1 operator operand2), push back.\n",
    "3. Result is at stack top.\n",
    "\n"
   ]
  },
  {
   "cell_type": "markdown",
   "id": "75fb65f0",
   "metadata": {},
   "source": [
    "\n",
    "---\n",
    "```\n",
    "function postfixToInfix(expression):\n",
    "    stack = empty stack\n",
    "    for token in expression:\n",
    "        if token is operand:\n",
    "            stack.push(token)\n",
    "        else if token is operator:\n",
    "            op2 = stack.pop()\n",
    "            op1 = stack.pop()\n",
    "            stack.push('(' + op1 + token + op2 + ')')\n",
    "    return stack.top()\n",
    "\n",
    "```\n",
    "---\n",
    "---"
   ]
  },
  {
   "cell_type": "markdown",
   "id": "1db58194",
   "metadata": {},
   "source": [
    "### Prefix to Infix"
   ]
  },
  {
   "cell_type": "markdown",
   "id": "ca61f285",
   "metadata": {},
   "source": [
    "\n",
    "1. Initialize an empty stack.\n",
    "2. Scan right to left.\n",
    "    - If operand: push to stack.\n",
    "    - If operator: pop two operands, combine as (operand1 operator operand2), push back.\n",
    "3. Result is at stack top.\n"
   ]
  },
  {
   "cell_type": "markdown",
   "id": "70afcdf6",
   "metadata": {},
   "source": [
    "---\n",
    "```\n",
    "function prefixToInfix(expression):\n",
    "    stack = empty stack\n",
    "    for token in reverse(expression):\n",
    "        if token is operand:\n",
    "            stack.push(token)\n",
    "        else if token is operator:\n",
    "            op1 = stack.pop()\n",
    "            op2 = stack.pop()\n",
    "            stack.push('(' + op1 + token + op2 + ')')\n",
    "    return stack.top()\n",
    "\n",
    "```\n",
    "---\n",
    "---"
   ]
  },
  {
   "cell_type": "markdown",
   "id": "87b80488",
   "metadata": {},
   "source": [
    "### Postfix to Prefix"
   ]
  },
  {
   "cell_type": "markdown",
   "id": "4c7f5ba3",
   "metadata": {},
   "source": [
    "- Initialize an empty stack.\n",
    "- Scan the postfix expression from left to right.\n",
    "- If the current character is an operand, push it onto the stack.\n",
    "- If the current character is an operator:\n",
    "    - Pop the top two elements from the stack (these are operands).\n",
    "    - Combine them as: operator + operand1 + operand2.\n",
    "    - Push the resulting string back onto the stack.\n",
    "- Result is at stack top."
   ]
  },
  {
   "cell_type": "markdown",
   "id": "94d788fb",
   "metadata": {},
   "source": [
    "--- \n",
    "```\n",
    "function postfixToPrefix(postfix):\n",
    "    stack = empty stack\n",
    "    for token in postfix:\n",
    "        if token is operand:\n",
    "            stack.push(token)\n",
    "        else if token is operator:\n",
    "            op2 = stack.pop()\n",
    "            op1 = stack.pop()\n",
    "            new_expr = token + op1 + op2\n",
    "            stack.push(new_expr)\n",
    "    return stack.top()\n",
    "\n",
    "```\n",
    "---\n",
    "---"
   ]
  },
  {
   "cell_type": "markdown",
   "id": "3d886998",
   "metadata": {},
   "source": [
    "### Prefix to Postfix"
   ]
  },
  {
   "cell_type": "markdown",
   "id": "e98adf76",
   "metadata": {},
   "source": [
    "- Initialize an empty stack.\n",
    "- Scan the prefix expression from right to left.\n",
    "- If the current character is an operand, push it onto the stack.\n",
    "- If the current character is an operator:\n",
    "    - Pop the top two elements from the stack (these are operands).\n",
    "    - Combine them as: operand1 + operand2 + operator.\n",
    "    - Push the resulting string back onto the stack.\n",
    "- Result is at stack top.\n"
   ]
  },
  {
   "cell_type": "markdown",
   "id": "4a966117",
   "metadata": {},
   "source": [
    "---\n",
    "```\n",
    "function prefixToPostfix(prefix):\n",
    "    stack = empty stack\n",
    "    for token in reverse(prefix):\n",
    "        if token is operand:\n",
    "            stack.push(token)\n",
    "        else if token is operator:\n",
    "            op1 = stack.pop()\n",
    "            op2 = stack.pop()\n",
    "            new_expr = op1 + op2 + token\n",
    "            stack.push(new_expr)\n",
    "    return stack.top()\n",
    "```\n",
    "---\n",
    "---"
   ]
  },
  {
   "cell_type": "markdown",
   "id": "1d68a168",
   "metadata": {},
   "source": [
    "### Opertaor Percedence "
   ]
  },
  {
   "cell_type": "markdown",
   "id": "faf2cbf6",
   "metadata": {},
   "source": [
    "\n",
    "- ^ (highest)\n",
    "- *, /\n",
    "- +, - (lowest)\n"
   ]
  }
 ],
 "metadata": {
  "language_info": {
   "name": "python"
  }
 },
 "nbformat": 4,
 "nbformat_minor": 5
}
